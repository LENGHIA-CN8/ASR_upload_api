{
 "cells": [
  {
   "cell_type": "code",
   "execution_count": 2,
   "id": "2fd657f5-efd9-42fb-957e-3c040dd37159",
   "metadata": {},
   "outputs": [],
   "source": [
    "import hashlib\n",
    "\n",
    "def hash_str(string: str) -> int:\n",
    "    # hashlib.sha256(string.encode('utf-8')) computes the SHA-256 hash of the input string.\n",
    "    # string.encode('utf-8') encodes the string into a sequence of bytes using UTF-8 encoding.\n",
    "\n",
    "    # .hexdigest() returns the digest of the SHA-256 hash as a hexadecimal string.\n",
    "\n",
    "    # int(..., 16) converts the hexadecimal string into an integer. The base is 16 (hexadecimal).\n",
    "\n",
    "    # % 10**9 performs modulo operation to ensure the result is within the range of 0 to 10^9.\n",
    "    # This constrains the result to a maximum of 1,000,000,000 (10 to the power of 9).\n",
    "    return int(hashlib.sha256(string.encode('utf-8')).hexdigest(), 16) % 10**9\n"
   ]
  },
  {
   "cell_type": "code",
   "execution_count": 3,
   "id": "14259211-dade-4c05-a1a0-c17d5b1693ac",
   "metadata": {},
   "outputs": [
    {
     "data": {
      "text/plain": [
       "23427620"
      ]
     },
     "execution_count": 3,
     "metadata": {},
     "output_type": "execute_result"
    }
   ],
   "source": [
    "hash_str('hello')"
   ]
  },
  {
   "cell_type": "code",
   "execution_count": 13,
   "id": "e0f833fe-52d7-4c36-9b67-361c60cc2267",
   "metadata": {},
   "outputs": [
    {
     "data": {
      "text/plain": [
       "'2023_11_07_11_28_55.493925'"
      ]
     },
     "execution_count": 13,
     "metadata": {},
     "output_type": "execute_result"
    }
   ],
   "source": [
    "from datetime import datetime\n",
    "str(datetime.now().strftime('%Y_%m_%d_%H_%M_%S.%f'))"
   ]
  },
  {
   "cell_type": "code",
   "execution_count": 17,
   "id": "ab391060-e483-4462-a9f2-144586de493a",
   "metadata": {},
   "outputs": [
    {
     "name": "stdout",
     "output_type": "stream",
     "text": [
      "<_io.TextIOWrapper name='sample.eml' mode='r' encoding='UTF-8'>\n",
      "FCC: imap://piro-test@mail.clear-code.com/Sent\n",
      "X-Identity-Key: id1\n",
      "X-Account-Key: account1\n",
      "From: \"piro-test@clear-code.com\" <piro-test@clear-code.com>\n",
      "Subject: test confirmation\n",
      "To: piro.outsider.reflex+1@gmail.com, piro.outsider.reflex+2@gmail.com,\n",
      " mailmaster@example.com, mailmaster@example.org, webmaster@example.com,\n",
      " webmaster@example.org, webmaster@example.jp, mailmaster@example.jp\n",
      "Message-ID: <05c18622-f2ad-cb77-2ce9-a0bbfc7d7ad0@clear-code.com>\n",
      "Date: Thu, 15 Aug 2019 14:54:37 +0900\n",
      "X-Mozilla-Draft-Info: internal/draft; vcard=0; receipt=0; DSN=0; uuencode=0;\n",
      " attachmentreminder=0; deliveryformat=4\n",
      "User-Agent: Mozilla/5.0 (Windows NT 10.0; Win64; x64; rv:69.0) Gecko/20100101\n",
      " Thunderbird/69.0\n",
      "MIME-Version: 1.0\n",
      "Content-Type: multipart/mixed;\n",
      " boundary=\"------------26A45336F6C6196BD8BBA2A2\"\n",
      "Content-Language: en-US\n",
      "\n",
      "This is a multi-part message in MIME format.\n",
      "--------------26A45336F6C6196BD8BBA2A2\n",
      "Content-Type: text/plain; charset=utf-8; format=flowed\n",
      "Content-Transfer-Encoding: 7bit\n",
      "\n",
      "testtest\n",
      "testtest\n",
      "testtest\n",
      "testtest\n",
      "testtest\n",
      "testtest\n",
      "\n",
      "\n",
      "\n",
      "--------------26A45336F6C6196BD8BBA2A2\n",
      "Content-Type: text/plain; charset=UTF-8;\n",
      " name=\"sha1hash.txt\"\n",
      "Content-Transfer-Encoding: base64\n",
      "Content-Disposition: attachment;\n",
      " filename=\"sha1hash.txt\"\n",
      "\n",
      "NzRjOGYwOWRmYTMwZWFjY2ZiMzkyYjEzMjMxNGZjNmI5NzhmMzI1YSAqZmxleC1jb25maXJt\n",
      "LW1haWwuMS4xMC4wLnhwaQpjY2VlNGI0YWE0N2Y1MTNhYmNlMzQyY2UxZTJlYzJmZDk2MDBl\n",
      "MzFiICpmbGV4LWNvbmZpcm0tbWFpbC4xLjExLjAueHBpCjA3MWU5ZTM3OGFkMDE3OWJmYWRi\n",
      "MWJkYzY1MGE0OTQ1NGQyMDRhODMgKmZsZXgtY29uZmlybS1tYWlsLjEuMTIuMC54cGkKOWQ3\n",
      "YWExNTM0MThlYThmYmM4YmU3YmE2ZjU0Y2U4YTFjYjdlZTQ2OCAqZmxleC1jb25maXJtLW1h\n",
      "aWwuMS45LjkueHBpCjgxNjg1NjNjYjI3NmVhNGY5YTJiNjMwYjlhMjA3ZDkwZmIxMTg1NmUg\n",
      "KmZsZXgtY29uZmlybS1tYWlsLnhwaQo=\n",
      "--------------26A45336F6C6196BD8BBA2A2\n",
      "Content-Type: application/json;\n",
      " name=\"manifest.json\"\n",
      "Content-Transfer-Encoding: base64\n",
      "Content-Disposition: attachment;\n",
      " filename=\"manifest.json\"\n",
      "\n",
      "ewogICJtYW5pZmVzdF92ZXJzaW9uIjogMiwKICAiYXBwbGljYXRpb25zIjogewogICAgImdl\n",
      "Y2tvIjogewogICAgICAiaWQiOiAiZmxleGlibGUtY29uZmlybS1tYWlsQGNsZWFyLWNvZGUu\n",
      "Y29tIiwKICAgICAgInN0cmljdF9taW5fdmVyc2lvbiI6ICI2OC4wIgogICAgfQogIH0sCiAg\n",
      "Im5hbWUiOiAiRmxleCBDb25maXJtIE1haWwiLAogICJkZXNjcmlwdGlvbiI6ICJDb25maXJt\n",
      "IG1haWxhZGRyZXNzIGFuZCBhdHRhY2htZW50cyBiYXNlZCBvbiBmbGV4aWJsZSBydWxlcy4i\n",
      "LAogICJ2ZXJzaW9uIjogIjIuMCIsCgogICJsZWdhY3kiOiB7CiAgICAidHlwZSI6ICJ4dWwi\n",
      "LAogICAgIm9wdGlvbnMiOiB7CiAgICAgICJwYWdlIjogImNocm9tZTovL2NvbmZpcm0tbWFp\n",
      "bC9jb250ZW50L3NldHRpbmcueHVsIiwKICAgICAgIm9wZW5faW5fdGFiIjogdHJ1ZQogICAg\n",
      "fQogIH0KfQ==\n",
      "--------------26A45336F6C6196BD8BBA2A2--\n",
      "\n"
     ]
    }
   ],
   "source": [
    "with open('sample.eml') as f:\n",
    "    print(f)\n",
    "    content = f.read()\n",
    "    print(content)"
   ]
  },
  {
   "cell_type": "code",
   "execution_count": null,
   "id": "744c6c91-a4c5-481d-9440-7b3ca44456ac",
   "metadata": {},
   "outputs": [],
   "source": []
  }
 ],
 "metadata": {
  "kernelspec": {
   "display_name": "my_ASR",
   "language": "python",
   "name": "asr"
  },
  "language_info": {
   "codemirror_mode": {
    "name": "ipython",
    "version": 3
   },
   "file_extension": ".py",
   "mimetype": "text/x-python",
   "name": "python",
   "nbconvert_exporter": "python",
   "pygments_lexer": "ipython3",
   "version": "3.8.18"
  }
 },
 "nbformat": 4,
 "nbformat_minor": 5
}
